{
 "cells": [
  {
   "cell_type": "markdown",
   "id": "9c2c860a",
   "metadata": {},
   "source": [
    "Installing necessary libraries:"
   ]
  },
  {
   "cell_type": "code",
   "execution_count": 8,
   "id": "bd9662ae",
   "metadata": {},
   "outputs": [],
   "source": [
    "import pandas as pd\n",
    "import matplotlib.pyplot as plt"
   ]
  },
  {
   "cell_type": "markdown",
   "id": "a3a00cf7",
   "metadata": {},
   "source": [
    "Loading the \"call me sexist, but\" dataset, available from https://www.gesis.org/en/services/finding-and-accessing-data/digital-behavioral-data-datasets and published together with “Call me sexist, but...” : Revisiting Sexism Detection Using Psychological Scales and Adversarial Samples by Samory et al. (2021)"
   ]
  },
  {
   "cell_type": "code",
   "execution_count": 2,
   "id": "798e9a2d",
   "metadata": {},
   "outputs": [],
   "source": [
    "pd_data = pd.read_csv('sexism_data.csv')"
   ]
  },
  {
   "cell_type": "code",
   "execution_count": 21,
   "id": "f7a3f761",
   "metadata": {},
   "outputs": [
    {
     "data": {
      "text/html": [
       "<div>\n",
       "<style scoped>\n",
       "    .dataframe tbody tr th:only-of-type {\n",
       "        vertical-align: middle;\n",
       "    }\n",
       "\n",
       "    .dataframe tbody tr th {\n",
       "        vertical-align: top;\n",
       "    }\n",
       "\n",
       "    .dataframe thead th {\n",
       "        text-align: right;\n",
       "    }\n",
       "</style>\n",
       "<table border=\"1\" class=\"dataframe\">\n",
       "  <thead>\n",
       "    <tr style=\"text-align: right;\">\n",
       "      <th></th>\n",
       "      <th>id</th>\n",
       "      <th>dataset</th>\n",
       "      <th>text</th>\n",
       "      <th>toxicity</th>\n",
       "      <th>sexist</th>\n",
       "      <th>of_id</th>\n",
       "    </tr>\n",
       "  </thead>\n",
       "  <tbody>\n",
       "    <tr>\n",
       "      <th>0</th>\n",
       "      <td>0</td>\n",
       "      <td>other</td>\n",
       "      <td>MENTION3481 i didn't even know random was an o...</td>\n",
       "      <td>0.118180</td>\n",
       "      <td>False</td>\n",
       "      <td>-1</td>\n",
       "    </tr>\n",
       "    <tr>\n",
       "      <th>1</th>\n",
       "      <td>1</td>\n",
       "      <td>other</td>\n",
       "      <td>Bottom two should've gone!  #mkr</td>\n",
       "      <td>0.251850</td>\n",
       "      <td>False</td>\n",
       "      <td>-1</td>\n",
       "    </tr>\n",
       "    <tr>\n",
       "      <th>2</th>\n",
       "      <td>2</td>\n",
       "      <td>callme</td>\n",
       "      <td>MENTION3111 MENTION3424 ladyboner deserves so ...</td>\n",
       "      <td>0.113331</td>\n",
       "      <td>False</td>\n",
       "      <td>-1</td>\n",
       "    </tr>\n",
       "    <tr>\n",
       "      <th>3</th>\n",
       "      <td>3</td>\n",
       "      <td>other</td>\n",
       "      <td>She shall now be known as Sourpuss #MKR #KatAn...</td>\n",
       "      <td>0.531153</td>\n",
       "      <td>False</td>\n",
       "      <td>-1</td>\n",
       "    </tr>\n",
       "    <tr>\n",
       "      <th>4</th>\n",
       "      <td>4</td>\n",
       "      <td>other</td>\n",
       "      <td>Tarah W threw a bunch of women under the bus s...</td>\n",
       "      <td>0.118718</td>\n",
       "      <td>False</td>\n",
       "      <td>-1</td>\n",
       "    </tr>\n",
       "  </tbody>\n",
       "</table>\n",
       "</div>"
      ],
      "text/plain": [
       "   id dataset                                               text  toxicity  \\\n",
       "0   0   other  MENTION3481 i didn't even know random was an o...  0.118180   \n",
       "1   1   other                   Bottom two should've gone!  #mkr  0.251850   \n",
       "2   2  callme  MENTION3111 MENTION3424 ladyboner deserves so ...  0.113331   \n",
       "3   3   other  She shall now be known as Sourpuss #MKR #KatAn...  0.531153   \n",
       "4   4   other  Tarah W threw a bunch of women under the bus s...  0.118718   \n",
       "\n",
       "   sexist  of_id  \n",
       "0   False     -1  \n",
       "1   False     -1  \n",
       "2   False     -1  \n",
       "3   False     -1  \n",
       "4   False     -1  "
      ]
     },
     "execution_count": 21,
     "metadata": {},
     "output_type": "execute_result"
    }
   ],
   "source": [
    "pd_data.head()"
   ]
  },
  {
   "cell_type": "markdown",
   "id": "6b3a8fcc",
   "metadata": {},
   "source": [
    "Size of dataset and individual classes "
   ]
  },
  {
   "cell_type": "code",
   "execution_count": 22,
   "id": "cdf960b4",
   "metadata": {},
   "outputs": [
    {
     "data": {
      "text/plain": [
       "13631"
      ]
     },
     "execution_count": 22,
     "metadata": {},
     "output_type": "execute_result"
    }
   ],
   "source": [
    "len(pd_data)"
   ]
  },
  {
   "cell_type": "code",
   "execution_count": 6,
   "id": "b4ab5555",
   "metadata": {},
   "outputs": [
    {
     "data": {
      "text/plain": [
       "sexist\n",
       "False    11822\n",
       "True      1809\n",
       "dtype: int64"
      ]
     },
     "execution_count": 6,
     "metadata": {},
     "output_type": "execute_result"
    }
   ],
   "source": [
    "pd_data.groupby('sexist').size()"
   ]
  },
  {
   "cell_type": "code",
   "execution_count": 27,
   "id": "20f2fc11",
   "metadata": {},
   "outputs": [
    {
     "data": {
      "text/plain": [
       "sexist\n",
       "False    0.867288\n",
       "True     0.132712\n",
       "dtype: float64"
      ]
     },
     "execution_count": 27,
     "metadata": {},
     "output_type": "execute_result"
    }
   ],
   "source": [
    "pd_data.groupby('sexist').size() / len(pd_data)"
   ]
  },
  {
   "cell_type": "markdown",
   "id": "5eef0a89",
   "metadata": {},
   "source": [
    "13.3% of the instances labeled as sexist"
   ]
  },
  {
   "cell_type": "code",
   "execution_count": 7,
   "id": "85fcacc2",
   "metadata": {},
   "outputs": [
    {
     "data": {
      "text/plain": [
       "dataset\n",
       "benevolent    1080\n",
       "callme        2431\n",
       "hostile       1257\n",
       "other         7985\n",
       "scales         878\n",
       "dtype: int64"
      ]
     },
     "execution_count": 7,
     "metadata": {},
     "output_type": "execute_result"
    }
   ],
   "source": [
    "pd_data.groupby('dataset').size()"
   ]
  },
  {
   "cell_type": "code",
   "execution_count": 26,
   "id": "9a070a02",
   "metadata": {},
   "outputs": [
    {
     "data": {
      "text/plain": [
       "dataset\n",
       "benevolent    0.079231\n",
       "callme        0.178343\n",
       "hostile       0.092216\n",
       "other         0.585797\n",
       "scales        0.064412\n",
       "dtype: float64"
      ]
     },
     "execution_count": 26,
     "metadata": {},
     "output_type": "execute_result"
    }
   ],
   "source": [
    "pd_data.groupby('dataset').size() / len(pd_data)"
   ]
  },
  {
   "cell_type": "markdown",
   "id": "3ee4a7e8",
   "metadata": {},
   "source": [
    "Plotting histogram of toxicity scores"
   ]
  },
  {
   "cell_type": "code",
   "execution_count": 20,
   "id": "6c92e6e9",
   "metadata": {},
   "outputs": [
    {
     "data": {
      "image/png": "[encoded data removed]",
      "text/plain": [
       "<Figure size 720x360 with 1 Axes>"
      ]
     },
     "metadata": {
      "needs_background": "light"
     },
     "output_type": "display_data"
    }
   ],
   "source": [
    "fig, ax = plt.subplots(figsize=(10,5))\n",
    "fig.suptitle('Toxicity Scores - Histogram')\n",
    "ax.hist(pd_data['toxicity'])\n",
    "plt.show()"
   ]
  }
 ],
 "metadata": {
  "kernelspec": {
   "display_name": "Python 3",
   "language": "python",
   "name": "python3"
  },
  "language_info": {
   "codemirror_mode": {
    "name": "ipython",
    "version": 3
   },
   "file_extension": ".py",
   "mimetype": "text/x-python",
   "name": "python",
   "nbconvert_exporter": "python",
   "pygments_lexer": "ipython3",
   "version": "3.8.8"
  }
 },
 "nbformat": 4,
 "nbformat_minor": 5
}
